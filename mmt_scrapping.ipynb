{
 "cells": [
  {
   "cell_type": "code",
   "execution_count": 1,
   "metadata": {},
   "outputs": [
    {
     "name": "stdout",
     "output_type": "stream",
     "text": [
      "Timeout occurred while waiting for an element.\n"
     ]
    }
   ],
   "source": [
    "from SearchEngine import *\n",
    "from ScrapeMakeMyTrip import *\n",
    "from time import sleep\n",
    "from selenium import webdriver\n",
    "from selenium.webdriver.common.by import *\n",
    "from selenium.webdriver.common.keys import Keys\n",
    "from selenium.webdriver.support.ui import WebDriverWait\n",
    "from selenium import *\n",
    "from selenium.webdriver.common.by import By\n",
    "from selenium.webdriver.support.ui import WebDriverWait\n",
    "from selenium.webdriver.support import expected_conditions as EC"
   ]
  },
  {
   "cell_type": "code",
   "execution_count": 2,
   "metadata": {},
   "outputs": [],
   "source": [
    "# browers = SearchEngine.using_bing(\"Make My trip\")"
   ]
  },
  {
   "cell_type": "markdown",
   "metadata": {},
   "source": [
    "## Scraping data from mmt flights"
   ]
  },
  {
   "cell_type": "code",
   "execution_count": 4,
   "metadata": {},
   "outputs": [],
   "source": [
    "search = \"make my trip\""
   ]
  },
  {
   "cell_type": "code",
   "execution_count": 6,
   "metadata": {},
   "outputs": [],
   "source": [
    "browser = webdriver.Chrome()\n",
    "browser.get(\"https://www.bing.com/\")\n",
    "sleep(10)        \n",
    "input_search = browser.find_element(By.ID, \"sb_form_q\")\n",
    "\n",
    "        \n",
    "input_search.send_keys(f\"{search}\" + Keys.RETURN)\n"
   ]
  },
  {
   "cell_type": "code",
   "execution_count": 5,
   "metadata": {},
   "outputs": [],
   "source": [
    "browser = webdriver.Chrome()\n",
    "browser.get(\"https://www.bing.com/\")\n",
    "sleep(10)        \n",
    "input_search = browser.find_element(By.ID, \"sb_form_q\")\n",
    "        \n",
    "input_search.send_keys(f\"{search}\" + Keys.RETURN)\n",
    "\n",
    "sleep(5)\n",
    "first_link = browser.find_element(By.CSS_SELECTOR, \"ol#b_results li.b_algo h2 a\")\n",
    "\n",
    "# Extract the URL of the first search result\n",
    "first_link_url = first_link.get_attribute(\"href\")\n",
    "        \n",
    "first_link.click() "
   ]
  },
  {
   "cell_type": "code",
   "execution_count": 8,
   "metadata": {},
   "outputs": [],
   "source": [
    "from_destination = \"Chicago\"\n",
    "to_destination = \"Miami\""
   ]
  },
  {
   "cell_type": "code",
   "execution_count": 9,
   "metadata": {},
   "outputs": [],
   "source": [
    "ScrapeMakeMyTrip.input_from_destination_box(from_destination, browser)"
   ]
  },
  {
   "cell_type": "code",
   "execution_count": 10,
   "metadata": {},
   "outputs": [],
   "source": [
    "ScrapeMakeMyTrip.input_to_destination_box(to_destination, browser)"
   ]
  },
  {
   "cell_type": "code",
   "execution_count": 11,
   "metadata": {},
   "outputs": [
    {
     "name": "stdout",
     "output_type": "stream",
     "text": [
      "Clicked at position (100, 200) on the screen.\n"
     ]
    }
   ],
   "source": [
    "ScrapeMakeMyTrip.click_at_position(100, 200, browser)"
   ]
  },
  {
   "cell_type": "code",
   "execution_count": 23,
   "metadata": {},
   "outputs": [],
   "source": [
    "try:\n",
    "    ss = WebDriverWait(browser, 10).until(\n",
    "        EC.presence_of_element_located((By.CSS_SELECTOR, \".primaryBtn.font24.latoBold.widgetSearchBtn\"))\n",
    "    )\n",
    "    ss.click()\n",
    "except Exception as e:\n",
    "    print(f\"An error occurred: {e}\")\n"
   ]
  },
  {
   "cell_type": "code",
   "execution_count": 37,
   "metadata": {},
   "outputs": [],
   "source": [
    "ele = \".primaryBtn.font24.latoBold.widgetSearchBtn\"\n"
   ]
  },
  {
   "cell_type": "code",
   "execution_count": 38,
   "metadata": {},
   "outputs": [
    {
     "ename": "TypeError",
     "evalue": "ScrapeMakeMyTrip.click_search() takes 1 positional argument but 2 were given",
     "output_type": "error",
     "traceback": [
      "\u001b[1;31m---------------------------------------------------------------------------\u001b[0m",
      "\u001b[1;31mTypeError\u001b[0m                                 Traceback (most recent call last)",
      "Cell \u001b[1;32mIn[38], line 1\u001b[0m\n\u001b[1;32m----> 1\u001b[0m \u001b[43mScrapeMakeMyTrip\u001b[49m\u001b[38;5;241;43m.\u001b[39;49m\u001b[43mclick_search\u001b[49m\u001b[43m(\u001b[49m\u001b[43mbrowser\u001b[49m\u001b[43m,\u001b[49m\u001b[43m \u001b[49m\u001b[43mele\u001b[49m\u001b[43m)\u001b[49m\n",
      "\u001b[1;31mTypeError\u001b[0m: ScrapeMakeMyTrip.click_search() takes 1 positional argument but 2 were given"
     ]
    }
   ],
   "source": [
    "ScrapeMakeMyTrip.click_search(browser, ele)"
   ]
  },
  {
   "cell_type": "markdown",
   "metadata": {},
   "source": []
  },
  {
   "cell_type": "code",
   "execution_count": 15,
   "metadata": {},
   "outputs": [],
   "source": []
  },
  {
   "cell_type": "code",
   "execution_count": 16,
   "metadata": {},
   "outputs": [
    {
     "name": "stdout",
     "output_type": "stream",
     "text": [
      "1\n",
      "2\n",
      "3\n",
      "4\n",
      "5\n",
      "6\n",
      "7\n",
      "8\n",
      "9\n",
      "10\n",
      "11\n",
      "12\n",
      "13\n",
      "14\n",
      "15\n",
      "16\n",
      "17\n",
      "18\n",
      "19\n",
      "20\n",
      "21\n",
      "22\n",
      "23\n",
      "24\n",
      "25\n",
      "26\n",
      "27\n",
      "28\n",
      "29\n",
      "30\n",
      "31\n",
      "32\n",
      "33\n",
      "34\n",
      "35\n",
      "36\n",
      "37\n",
      "38\n",
      "39\n",
      "40\n",
      "41\n",
      "42\n",
      "43\n",
      "44\n",
      "45\n",
      "46\n",
      "47\n",
      "48\n",
      "49\n",
      "50\n",
      "51\n"
     ]
    }
   ],
   "source": [
    "de = extract_flight_details(browser)"
   ]
  },
  {
   "cell_type": "code",
   "execution_count": 14,
   "metadata": {},
   "outputs": [
    {
     "name": "stdout",
     "output_type": "stream",
     "text": [
      "[{'airline_name': 'United Airlines', 'flight_code': 'UA 9747, LX 146', 'departure_time': '21:50', 'departure_airport': 'Newark', 'arrival_time': '23:40', 'arrival_airport': 'New Delhi', 'price': 'USD 876'}, {'airline_name': 'United Airlines', 'flight_code': 'UA 9715, LX 146', 'departure_time': '20:30', 'departure_airport': 'New York', 'arrival_time': '23:40', 'arrival_airport': 'New Delhi', 'price': 'USD 876'}, {'airline_name': 'United Airlines', 'flight_code': 'UA 9717, LX 146', 'departure_time': '16:15', 'departure_airport': 'New York', 'arrival_time': '23:40', 'arrival_airport': 'New Delhi', 'price': 'USD 876'}, {'airline_name': 'American Airlines', 'flight_code': 'AA 292', 'departure_time': '20:30', 'departure_airport': 'New York', 'arrival_time': '21:00', 'arrival_airport': 'New Delhi', 'price': 'USD 887'}, {'airline_name': 'Swiss', 'flight_code': 'LX 19, LX 146', 'departure_time': '21:50', 'departure_airport': 'Newark', 'arrival_time': '23:40', 'arrival_airport': 'New Delhi', 'price': 'USD 895'}, {'airline_name': 'Swiss', 'flight_code': 'LX 15, LX 146', 'departure_time': '20:30', 'departure_airport': 'New York', 'arrival_time': '23:40', 'arrival_airport': 'New Delhi', 'price': 'USD 895'}, {'airline_name': 'Swiss', 'flight_code': 'LX 17, LX 146', 'departure_time': '16:15', 'departure_airport': 'New York', 'arrival_time': '23:40', 'arrival_airport': 'New Delhi', 'price': 'USD 895'}, {'airline_name': 'Lufthansa', 'flight_code': 'LH 413, LH 762', 'departure_time': '20:30', 'departure_airport': 'Newark', 'arrival_time': '23:30', 'arrival_airport': 'New Delhi', 'price': 'USD 897'}, {'airline_name': 'Lufthansa', 'flight_code': 'LH 411, LH 762', 'departure_time': '17:30', 'departure_airport': 'New York', 'arrival_time': '23:30', 'arrival_airport': 'New Delhi', 'price': 'USD 897'}, {'airline_name': 'Lufthansa', 'flight_code': 'LH 7608, LH 762', 'departure_time': '17:05', 'departure_airport': 'Newark', 'arrival_time': '23:30', 'arrival_airport': 'New Delhi', 'price': 'USD 997'}, {'airline_name': 'United Airlines', 'flight_code': 'UA 9254, LH 762', 'departure_time': '20:30', 'departure_airport': 'Newark', 'arrival_time': '23:30', 'arrival_airport': 'New Delhi', 'price': 'USD 1,018'}, {'airline_name': 'Air Canada', 'flight_code': 'AC 1371, AC 42', 'departure_time': '09:00', 'departure_airport': 'Newark', 'arrival_time': '20:25', 'arrival_airport': 'New Delhi', 'price': 'USD 1,025'}, {'airline_name': 'Delta Air Lines', 'flight_code': 'DL 2639, UA 8529, UA 8160', 'departure_time': '21:00', 'departure_airport': 'New York', 'arrival_time': '20:25', 'arrival_airport': 'New Delhi', 'price': 'USD 1,074'}, {'airline_name': 'American Airlines', 'flight_code': 'AA 4397, UA 8529, UA 8160', 'departure_time': '22:29', 'departure_airport': 'New York', 'arrival_time': '20:25', 'arrival_airport': 'New Delhi', 'price': 'USD 1,083'}, {'airline_name': 'United Airlines', 'flight_code': 'UA 500, UA 8529, UA 8160', 'departure_time': '21:35', 'departure_airport': 'Newark', 'arrival_time': '20:25', 'arrival_airport': 'New Delhi', 'price': 'USD 1,083'}, {'airline_name': 'American Airlines', 'flight_code': 'AA 4659, UA 8529, UA 8160', 'departure_time': '21:20', 'departure_airport': 'New York', 'arrival_time': '20:25', 'arrival_airport': 'New Delhi', 'price': 'USD 1,083'}, {'airline_name': 'Emirates', 'flight_code': 'EK 204, EK 516', 'departure_time': '11:20', 'departure_airport': 'New York', 'arrival_time': '14:45', 'arrival_airport': 'New Delhi', 'price': 'USD 1,086'}, {'airline_name': 'Delta Air Lines', 'flight_code': 'DL 5758, UA 9721, LX 146', 'departure_time': '12:59', 'departure_airport': 'New York-LaGuardia Apt', 'arrival_time': '23:40', 'arrival_airport': 'New Delhi', 'price': 'USD 1,086'}, {'airline_name': 'Emirates', 'flight_code': 'EK 210, EK 516', 'departure_time': '23:55', 'departure_airport': 'Newark', 'arrival_time': '14:45', 'arrival_airport': 'New Delhi', 'price': 'USD 1,086'}, {'airline_name': 'Delta Air Lines', 'flight_code': 'DL 5765, UA 9805, LX 146', 'departure_time': '06:10', 'departure_airport': 'New York', 'arrival_time': '23:40', 'arrival_airport': 'New Delhi', 'price': 'USD 1,086'}, {'airline_name': 'United Airlines', 'flight_code': 'UA 2612, UA 9721, LX 146', 'departure_time': '16:45', 'departure_airport': 'Newark', 'arrival_time': '23:40', 'arrival_airport': 'New Delhi', 'price': 'USD 1,095'}, {'airline_name': 'American Airlines', 'flight_code': 'AA 4430, UA 9721, LX 146', 'departure_time': '14:30', 'departure_airport': 'New York-LaGuardia Apt', 'arrival_time': '23:40', 'arrival_airport': 'New Delhi', 'price': 'USD 1,095'}, {'airline_name': 'United Airlines', 'flight_code': 'UA 1994, UA 9721, LX 146', 'departure_time': '13:00', 'departure_airport': 'Newark', 'arrival_time': '23:40', 'arrival_airport': 'New Delhi', 'price': 'USD 1,095'}, {'airline_name': 'Delta Air Lines', 'flight_code': 'DL 5829, LH 425, LH 762', 'departure_time': '15:00', 'departure_airport': 'Newark', 'arrival_time': '23:30', 'arrival_airport': 'New Delhi', 'price': 'USD 1,096'}, {'airline_name': 'American Airlines', 'flight_code': 'AA 106, AA 6661', 'departure_time': '19:10', 'departure_airport': 'New York', 'arrival_time': '23:30', 'arrival_airport': 'New Delhi', 'price': 'USD 1,102'}, {'airline_name': 'American Airlines', 'flight_code': 'AA 6939, AA 6661', 'departure_time': '07:55', 'departure_airport': 'New York', 'arrival_time': '23:30', 'arrival_airport': 'New Delhi', 'price': 'USD 1,102'}, {'airline_name': 'IndiGo', 'flight_code': '6E 4236, 6E 12', 'departure_time': '19:25', 'departure_airport': 'New York', 'arrival_time': '05:05', 'arrival_airport': 'New Delhi', 'price': 'USD 1,104'}, {'airline_name': 'American Airlines', 'flight_code': 'AA 4397, AC 767, AC 42', 'departure_time': '22:29', 'departure_airport': 'New York', 'arrival_time': '20:25', 'arrival_airport': 'New Delhi', 'price': 'USD 1,104'}, {'airline_name': 'Delta Air Lines', 'flight_code': 'DL 5758, LH 425, LH 762', 'departure_time': '12:59', 'departure_airport': 'New York-LaGuardia Apt', 'arrival_time': '23:30', 'arrival_airport': 'New Delhi', 'price': 'USD 1,107'}, {'airline_name': 'United Airlines', 'flight_code': 'UA 2612, LX 53, LX 146', 'departure_time': '16:45', 'departure_airport': 'Newark', 'arrival_time': '23:40', 'arrival_airport': 'New Delhi', 'price': 'USD 1,114'}, {'airline_name': 'American Airlines', 'flight_code': 'AA 4430, LX 53, LX 146', 'departure_time': '14:30', 'departure_airport': 'New York-LaGuardia Apt', 'arrival_time': '23:40', 'arrival_airport': 'New Delhi', 'price': 'USD 1,114'}, {'airline_name': 'IndiGo', 'flight_code': '6E 4237, 6E 12', 'departure_time': '00:20', 'departure_airport': 'New York', 'arrival_time': '05:05', 'arrival_airport': 'New Delhi', 'price': 'USD 1,116'}, {'airline_name': 'United Airlines', 'flight_code': 'UA 688, LH 425, LH 762', 'departure_time': '15:28', 'departure_airport': 'Newark', 'arrival_time': '23:30', 'arrival_airport': 'New Delhi', 'price': 'USD 1,116'}, {'airline_name': 'American Airlines', 'flight_code': 'AA 4430, LH 425, LH 762', 'departure_time': '14:30', 'departure_airport': 'New York-LaGuardia Apt', 'arrival_time': '23:30', 'arrival_airport': 'New Delhi', 'price': 'USD 1,116'}, {'airline_name': 'LOT Polish Airlines', 'flight_code': 'LO 27, LO 71', 'departure_time': '22:20', 'departure_airport': 'New York', 'arrival_time': '02:55', 'arrival_airport': 'New Delhi', 'price': 'USD 1,131'}, {'airline_name': 'IndiGo', 'flight_code': '6E 4237, 6E 18, 6E 301', 'departure_time': '00:20', 'departure_airport': 'New York', 'arrival_time': '09:05', 'arrival_airport': 'New Delhi', 'price': 'USD 1,162'}, {'airline_name': 'IndiGo', 'flight_code': '6E 4236, 6E 18, 6E 2139', 'departure_time': '19:25', 'departure_airport': 'New York', 'arrival_time': '11:45', 'arrival_airport': 'New Delhi', 'price': 'USD 1,162'}, {'airline_name': 'IndiGo', 'flight_code': '6E 4236, 6E 18, 6E 6028', 'departure_time': '19:25', 'departure_airport': 'New York', 'arrival_time': '14:30', 'arrival_airport': 'New Delhi', 'price': 'USD 1,163'}, {'airline_name': 'United Airlines', 'flight_code': 'UA 8432, UA 8160', 'departure_time': '16:30', 'departure_airport': 'Newark', 'arrival_time': '20:25', 'arrival_airport': 'New Delhi', 'price': 'USD 1,164'}, {'airline_name': 'Air Canada', 'flight_code': 'AC 8881, AC 42', 'departure_time': '16:30', 'departure_airport': 'Newark', 'arrival_time': '20:25', 'arrival_airport': 'New Delhi', 'price': 'USD 1,185'}, {'airline_name': 'American Airlines', 'flight_code': 'AA 6943, AA 6661', 'departure_time': '17:40', 'departure_airport': 'Newark', 'arrival_time': '23:30', 'arrival_airport': 'New Delhi', 'price': 'USD 1,211'}, {'airline_name': 'Air India', 'flight_code': 'AI 116, AI 687', 'departure_time': '11:55', 'departure_airport': 'New York', 'arrival_time': '18:30', 'arrival_airport': 'New Delhi', 'price': 'USD 1,227'}, {'airline_name': 'Delta Air Lines', 'flight_code': 'DL 262, DL 8650', 'departure_time': '19:25', 'departure_airport': 'New York', 'arrival_time': '22:35', 'arrival_airport': 'New Delhi', 'price': 'USD 1,234'}, {'airline_name': 'Air India', 'flight_code': 'AI 116, AI 9114', 'departure_time': '11:55', 'departure_airport': 'New York', 'arrival_time': '02:55', 'arrival_airport': 'New Delhi', 'price': 'USD 1,245'}, {'airline_name': 'Air India', 'flight_code': 'AI 116, UK 996', 'departure_time': '11:55', 'departure_airport': 'New York', 'arrival_time': '20:40', 'arrival_airport': 'New Delhi', 'price': 'USD 1,256'}, {'airline_name': 'Air France', 'flight_code': 'AF 3577, AF 226', 'departure_time': '19:25', 'departure_airport': 'New York', 'arrival_time': '22:35', 'arrival_airport': 'New Delhi', 'price': 'USD 1,257'}, {'airline_name': 'KLM Royal Dutch', 'flight_code': 'KL 7647, KL 6165, KL 2368', 'departure_time': '15:00', 'departure_airport': 'Newark', 'arrival_time': '22:35', 'arrival_airport': 'New Delhi', 'price': 'USD 1,262'}, {'airline_name': 'Air India', 'flight_code': 'AI 116, UK 910', 'departure_time': '11:55', 'departure_airport': 'New York', 'arrival_time': '19:40', 'arrival_airport': 'New Delhi', 'price': 'USD 1,271'}, {'airline_name': 'Emirates', 'flight_code': 'EK 202, EK 512', 'departure_time': '23:00', 'departure_airport': 'New York', 'arrival_time': '02:45', 'arrival_airport': 'New Delhi', 'price': 'USD 1,287'}, {'airline_name': 'United Airlines', 'flight_code': 'UA 82', 'departure_time': '21:10', 'departure_airport': 'Newark', 'arrival_time': '21:30', 'arrival_airport': 'New Delhi', 'price': 'USD 1,308'}, {'airline_name': 'Delta Air Lines', 'flight_code': 'DL 8741, DL 8650', 'departure_time': '17:30', 'departure_airport': 'New York', 'arrival_time': '22:35', 'arrival_airport': 'New Delhi', 'price': 'USD 1,309'}]\n"
     ]
    }
   ],
   "source": [
    "print(de)"
   ]
  },
  {
   "cell_type": "code",
   "execution_count": null,
   "metadata": {},
   "outputs": [],
   "source": []
  }
 ],
 "metadata": {
  "kernelspec": {
   "display_name": "Python 3",
   "language": "python",
   "name": "python3"
  },
  "language_info": {
   "codemirror_mode": {
    "name": "ipython",
    "version": 3
   },
   "file_extension": ".py",
   "mimetype": "text/x-python",
   "name": "python",
   "nbconvert_exporter": "python",
   "pygments_lexer": "ipython3",
   "version": "3.11.5"
  }
 },
 "nbformat": 4,
 "nbformat_minor": 2
}
